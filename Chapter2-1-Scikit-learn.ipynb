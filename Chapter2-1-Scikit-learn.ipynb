{
 "cells": [
  {
   "cell_type": "code",
   "execution_count": null,
   "metadata": {},
   "outputs": [],
   "source": [
    "# Call the data\n",
    "from sklearn.datasets import load_iris\n",
    "\n",
    "# This is to call the machine learning algorithm: Decision Tree\n",
    "from sklearn.tree import DecisionTreeClassifier\n",
    "\n",
    "# This is to split the data as train and test sets\n",
    "from sklearn.model_selection import train_test_split\n",
    "\n",
    "import pandas as pd\n",
    "\n",
    "# Load iris data \n",
    "iris = load_iris()\n",
    "# Among iris.data datas set, one of the set is the Feature-based data set\n",
    "iris_data = iris.data\n",
    "# \n",
    "iris_label = iris.target\n",
    "\n",
    "print('iris target value:', iris_label)\n",
    "print('iris taget name:', iris.target_names)"
   ]
  },
  {
   "cell_type": "code",
   "execution_count": null,
   "metadata": {},
   "outputs": [],
   "source": [
    "# In order to look into it, we need to create DataFrame with pd\n",
    "iris_df = pd.DataFrame(data=iris_data, columns=iris.feature_names)\n",
    "# Add the Label column to the dataframe\n",
    "iris_df['label'] = iris.target\n",
    "\n",
    "print(iris_df)"
   ]
  },
  {
   "cell_type": "code",
   "execution_count": null,
   "metadata": {},
   "outputs": [],
   "source": [
    "# \"test_size=0.2\" means test portion is 20% from the whole data set and others are using for training (80%)\n",
    "# A number in \"random_state\" is not specified and you can randomly designate it\n",
    "X_train, X_test, y_train, y_test = train_test_split(iris_data, iris_label, test_size=0.2, random_state=11)\n",
    "\n",
    "# DecisionTrerClassifier object\n",
    "# The random_state numb should be the same as above\n",
    "dt_clf = DecisionTreeClassifier(random_state=11)\n",
    "\n",
    "# Training\n",
    "dt_clf.fit(X_train,y_train)\n",
    "\n",
    "# Predict based on trained object by using DecisionTreeClassifier\n",
    "pred = dt_clf.predict(X_test)\n",
    "\n",
    "# Let's to check accuracy of prediction\n",
    "from sklearn.metrics import accuracy_score\n",
    "print(\"Prediction accuracy: {0:.4f}\".format(accuracy_score(y_test, pred)))"
   ]
  },
  {
   "cell_type": "code",
   "execution_count": null,
   "metadata": {},
   "outputs": [],
   "source": [
    "# For the machine learning, there are two important functions: Classification and Regression, and Classifier and Regressor work for these, respectively. Call them Estimator\n"
   ]
  },
  {
   "cell_type": "code",
   "execution_count": null,
   "metadata": {},
   "outputs": [],
   "source": [
    "from sklearn.datasets import load_iris\n",
    "\n",
    "iris_data = load_iris()\n",
    "print(type(iris_data))\n",
    "# Bunch class is similar to Python dictionary class"
   ]
  },
  {
   "cell_type": "code",
   "execution_count": null,
   "metadata": {},
   "outputs": [],
   "source": [
    "keys = iris_data.keys()\n",
    "print(keys)"
   ]
  },
  {
   "cell_type": "code",
   "execution_count": null,
   "metadata": {},
   "outputs": [],
   "source": [
    "print(\"type of feature_names:\", type(iris_data.feature_names))\n",
    "print(\"shape of feature_names:\", len(iris_data.feature_names))\n",
    "print(iris_data.feature_names)\n",
    "print(\"\\n type of target_names:\", type(iris_data.target_names))\n",
    "print(\"shape of target_names:\", len(iris_data.target_names))\n",
    "print(iris_data.target_names)\n",
    "print(\"\\n type of data:\", type(iris_data.data))\n",
    "print(\"shape of data:\", iris_data.data.shape)\n",
    "print(iris_data['data'])\n",
    "print(\"\\n type of target:\", type(iris_data.target))\n",
    "print(\"shape of target:\", iris_data.target.shape)\n",
    "print(iris_data.target)"
   ]
  }
 ],
 "metadata": {
  "kernelspec": {
   "display_name": "Python 3",
   "language": "python",
   "name": "python3"
  },
  "language_info": {
   "codemirror_mode": {
    "name": "ipython",
    "version": 3
   },
   "file_extension": ".py",
   "mimetype": "text/x-python",
   "name": "python",
   "nbconvert_exporter": "python",
   "pygments_lexer": "ipython3",
   "version": "3.9.5"
  }
 },
 "nbformat": 4,
 "nbformat_minor": 2
}
